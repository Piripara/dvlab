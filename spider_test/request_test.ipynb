{
 "cells": [
  {
   "attachments": {},
   "cell_type": "markdown",
   "metadata": {},
   "source": [
    "# 爬虫\n",
    "\n",
    "Python爬虫是指使用Python编程语言编写的程序，用于自动化地从互联网上抓取数据。爬虫可以模拟浏览器行为，访问网页、解析HTML内容，提取所需的信息，如文本、图像、链接等。Python爬虫常用的库包括requests用于发送HTTP请求，BeautifulSoup和XPath用于解析HTML，以及Scrapy用于构建更复杂的爬虫系统。爬虫可以应用于各种场景，如数据采集、搜索引擎索引、价格监测、舆情分析等。使用Python编写爬虫具有简单易学、强大灵活的特点，广泛应用于数据挖掘和信息获取领域。"
   ]
  },
  {
   "cell_type": "code",
   "execution_count": 17,
   "metadata": {},
   "outputs": [],
   "source": [
    "# 导入库\n",
    "import urllib3 as urllib\n",
    "import requests\n",
    "from lxml import etree\n",
    "from pathlib import Path\n",
    "import scrapy\n",
    "\n",
    "# 反爬虫\n",
    "headers = {\n",
    "    \"Accept\":\"text/html,application/xhtml+xml,application/xml;q=0.9,image/webp,image/apng,*/*;q=0.8,application/signed-exchange;v=b3;q=0.7\",\n",
    "    \"User-Agent\":\"Mozilla/5.0 (Windows NT 10.0; Win64; x64) AppleWebKit/537.36 (KHTML, like Gecko) Chrome/114.0.0.0 Safari/537.36 Edg/114.0.1823.58\",\n",
    "}"
   ]
  },
  {
   "attachments": {},
   "cell_type": "markdown",
   "metadata": {},
   "source": [
    "## Scrapy Module"
   ]
  },
  {
   "cell_type": "code",
   "execution_count": null,
   "metadata": {},
   "outputs": [],
   "source": [
    "class QuotesSpider(scrapy.Spider):\n",
    "    name = \"quotes\"\n",
    "\n",
    "    def start_requests(self):\n",
    "        urls = [\n",
    "            \"https://quotes.toscrape.com/page/1/\",\n",
    "            \"https://quotes.toscrape.com/page/2/\",\n",
    "        ]\n",
    "        for url in urls:\n",
    "            yield scrapy.Request(url=url, callback=self.parse)\n",
    "\n",
    "    def parse(self, response):\n",
    "        page = response.url.split(\"/\")[-2]\n",
    "        filename = f\"quotes-{page}.html\"\n",
    "        Path(filename).write_bytes(response.body)\n",
    "        self.log(f\"Saved file {filename}\")"
   ]
  },
  {
   "attachments": {},
   "cell_type": "markdown",
   "metadata": {},
   "source": [
    "## Request 部分"
   ]
  },
  {
   "attachments": {},
   "cell_type": "markdown",
   "metadata": {},
   "source": [
    "### Urllib 库\n",
    "\n",
    "Urllib是Python的标准库之一，用于处理URL和进行网络请求。它提供了简单且易于使用的接口，用于打开URL、发送请求和处理响应数据。"
   ]
  },
  {
   "attachments": {},
   "cell_type": "markdown",
   "metadata": {},
   "source": [
    "- 访问网页"
   ]
  },
  {
   "cell_type": "code",
   "execution_count": 2,
   "metadata": {},
   "outputs": [
    {
     "name": "stdout",
     "output_type": "stream",
     "text": [
      "<html>\n",
      "<head>\n",
      "\t<script>\n",
      "\t\tlocation.replace(location.href.replace(\"https://\",\"http://\"));\n",
      "\t</script>\n",
      "</head>\n",
      "<body>\n",
      "\t<noscript><meta http-equiv=\"refresh\" content=\"0;url=http://www.baidu.com/\"></noscript>\n",
      "</body>\n",
      "</html>\n"
     ]
    }
   ],
   "source": [
    "# 获取网页的内容\n",
    "response = urllib.request.urlopen('https://www.baidu.com/')\n",
    "# 获取html\n",
    "html = response.read()\n",
    "# 打印内容\n",
    "print(html.decode('utf-8'))"
   ]
  },
  {
   "attachments": {},
   "cell_type": "markdown",
   "metadata": {},
   "source": [
    "- 模拟百度搜索\n",
    "\n",
    "    前半部分链接之所以是http，不是https。因为百度在https做了重定向，重定向到http的链接。\n",
    "若直接获取https的链接内容是获取不到什么数据。"
   ]
  },
  {
   "cell_type": "code",
   "execution_count": null,
   "metadata": {},
   "outputs": [],
   "source": [
    "# 前半部分链接(注意用http 不能用https)\n",
    "url_pre = 'http://www.baidu.com/s'\n",
    "\n",
    "# 构造表单\n",
    "params = {}\n",
    "params['wd'] = u'python'.encode('utf-8')\n",
    "url_params = urllib.parse.urlencode(params)\n",
    "\n",
    "# 构造请求\n",
    "url = url_pre + '?' + url_params\n",
    "request = urllib.request.Request(url, headers=headers)\n",
    "response = urllib.request.urlopen(request)\n",
    "\n",
    "# 获取html\n",
    "html = response.read()\n",
    "\n",
    "# 打印内容\n",
    "print(html.decode('utf-8'))"
   ]
  },
  {
   "attachments": {},
   "cell_type": "markdown",
   "metadata": {},
   "source": [
    "- POST请求示例"
   ]
  },
  {
   "cell_type": "code",
   "execution_count": 8,
   "metadata": {},
   "outputs": [
    {
     "name": "stdout",
     "output_type": "stream",
     "text": [
      "<!DOCTYPE html><html><head><meta http-equiv=\"X-UA-Compatible\" content=\"IE=Edge,chrome=1\"><meta name=\"viewport\" content=\"width=device-width,initial-scale=1\"><meta name=\"referrer\" content=\"always\"><meta name=\"renderer\" content=\"webkit\"><meta name=\"force-rendering\" content=\"webkit\"><meta charset=\"utf-8\"><meta name=\"keyword\" content=\"CSDN登录\"><meta name=\"description\" content=\"CSDN桌面端登录\"><meta name=\"google\" value=\"notranslate\"><meta name=\"report\" content='{\"spm\":\"1031.2352\"}'><link type=\"image/x-icon\" href=\"https://g.csdnimg.cn/static/logo/favicon32.ico\" rel=\"SHORTCUT ICON\"><title>CSDN-专业IT技术社区-登录</title><!--[if lte IE 9]>\n",
      "       <script>window.location.href=\"https://g.csdnimg.cn/browser_upgrade/1.0.2/index.html\";</script>\n",
      "    <![endif]--><script src=\"//g.csdnimg.cn/tingyun/1.8.5/passport.js\" type=\"text/javascript\"></script><link href=\"https://csdnimg.cn/release/passport_fe/assets/css/loginv3.7dbb4731a9963f240fea6261f5f9c0e2.css\" rel=\"stylesheet\"></head><body><div id=\"app\"></div><script type=\"text/javascript\" src=\"https://csdnimg.cn/release/passport_fe/assets/js/manifest.f94b61f226b5fd91e030.js\"></script><script type=\"text/javascript\" src=\"https://csdnimg.cn/release/passport_fe/assets/js/vendor.b4992a659253dfe941a5.js\"></script><script type=\"text/javascript\" src=\"https://csdnimg.cn/release/passport_fe/assets/js/loginv3.ecff8510638c9f5fe880.js\"></script></body></html>\n"
     ]
    }
   ],
   "source": [
    "# 构造表单\n",
    "values = {}\n",
    "values['usr'] = \"W.ZeHao\"\n",
    "values['pwd'] = \"W.2zezebao\"\n",
    "data = urllib.parse.urlencode(values)\n",
    "\n",
    "# 构造请求\n",
    "url = 'http://passport.csdn.net/account/login'\n",
    "request = urllib.request.Request(url, data=data.encode('utf-8'), headers=headers)\n",
    "response = urllib.request.urlopen(request)\n",
    "\n",
    "# 获取html\n",
    "html = response.read()\n",
    "\n",
    "# 打印内容\n",
    "print(html.decode('utf-8'))"
   ]
  },
  {
   "attachments": {},
   "cell_type": "markdown",
   "metadata": {},
   "source": [
    "### Request 库\n"
   ]
  },
  {
   "cell_type": "code",
   "execution_count": 14,
   "metadata": {},
   "outputs": [
    {
     "name": "stdout",
     "output_type": "stream",
     "text": [
      "None\n"
     ]
    },
    {
     "ename": "AttributeError",
     "evalue": "'NoneType' object has no attribute 'xpath'",
     "output_type": "error",
     "traceback": [
      "\u001b[1;31m---------------------------------------------------------------------------\u001b[0m",
      "\u001b[1;31mAttributeError\u001b[0m                            Traceback (most recent call last)",
      "Cell \u001b[1;32mIn[14], line 10\u001b[0m\n\u001b[0;32m      8\u001b[0m s\u001b[39m=\u001b[39metree\u001b[39m.\u001b[39mHTML(r)\n\u001b[0;32m      9\u001b[0m \u001b[39mprint\u001b[39m(s)\n\u001b[1;32m---> 10\u001b[0m file\u001b[39m=\u001b[39ms\u001b[39m.\u001b[39;49mxpath(\u001b[39m'\u001b[39m\u001b[39m//*[@id=\u001b[39m\u001b[39m\"\u001b[39m\u001b[39mcomments\u001b[39m\u001b[39m\"\u001b[39m\u001b[39m]/ul/li/div[2]/p/text()\u001b[39m\u001b[39m'\u001b[39m)\n\u001b[0;32m     12\u001b[0m \u001b[39m#打印抓取的信息\u001b[39;00m\n\u001b[0;32m     13\u001b[0m \u001b[39mprint\u001b[39m(file)\n",
      "\u001b[1;31mAttributeError\u001b[0m: 'NoneType' object has no attribute 'xpath'"
     ]
    }
   ],
   "source": [
    "#我们邀抓取的页面链接\n",
    "url='https://book.douban.com/subject/1084336/comments/'\n",
    "\n",
    "#用requests库的get方法下载网页\n",
    "r=requests.get(url).text\n",
    "\n",
    "#解析网页并且定位短评\n",
    "s=etree.HTML(r)\n",
    "print(s)\n",
    "file=s.xpath('//*[@id=\"comments\"]/ul/li/div[2]/p/text()')\n",
    "\n",
    "#打印抓取的信息\n",
    "print(file)"
   ]
  }
 ],
 "metadata": {
  "kernelspec": {
   "display_name": "dvlab",
   "language": "python",
   "name": "python3"
  },
  "language_info": {
   "codemirror_mode": {
    "name": "ipython",
    "version": 3
   },
   "file_extension": ".py",
   "mimetype": "text/x-python",
   "name": "python",
   "nbconvert_exporter": "python",
   "pygments_lexer": "ipython3",
   "version": "3.10.11"
  },
  "orig_nbformat": 4
 },
 "nbformat": 4,
 "nbformat_minor": 2
}
